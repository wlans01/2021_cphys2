{
  "nbformat": 4,
  "nbformat_minor": 0,
  "metadata": {
    "colab": {
      "name": "hw3.ipynb",
      "provenance": [],
      "collapsed_sections": [],
      "authorship_tag": "ABX9TyMHgEyrzxQa8Jd9zjQsc0rW",
      "include_colab_link": true
    },
    "kernelspec": {
      "name": "python3",
      "display_name": "Python 3"
    },
    "language_info": {
      "name": "python"
    }
  },
  "cells": [
    {
      "cell_type": "markdown",
      "metadata": {
        "id": "view-in-github",
        "colab_type": "text"
      },
      "source": [
        "<a href=\"https://colab.research.google.com/github/wlans01/2021_cphys2/blob/main/hw3.ipynb\" target=\"_parent\"><img src=\"https://colab.research.google.com/assets/colab-badge.svg\" alt=\"Open In Colab\"/></a>"
      ]
    },
    {
      "cell_type": "markdown",
      "metadata": {
        "id": "UevJUamGa6Pt"
      },
      "source": [
        "\n",
        "#OR\n",
        "단층 perceptron을 이용하여 다음의 데이터를 분류하여라."
      ]
    },
    {
      "cell_type": "code",
      "metadata": {
        "id": "8ujQ_3Lrb44K"
      },
      "source": [
        "import numpy as np"
      ],
      "execution_count": 160,
      "outputs": []
    },
    {
      "cell_type": "code",
      "metadata": {
        "id": "Fxx4X_pOa__s"
      },
      "source": [
        "X = [[0,0],[1,0],[0,1],[1,1]]\n",
        "Y = [0,1,1,1]"
      ],
      "execution_count": 161,
      "outputs": []
    },
    {
      "cell_type": "code",
      "metadata": {
        "id": "x2kY6UyhbabM"
      },
      "source": [
        "w, b=[0,0], 0\n",
        "eta = 0.1"
      ],
      "execution_count": 162,
      "outputs": []
    },
    {
      "cell_type": "code",
      "metadata": {
        "id": "tvdS9TpDbaQk"
      },
      "source": [
        "\n",
        "def perc(x):\n",
        "    f=np.dot(w,x)+b\n",
        "    if f>=0:\n",
        "        return 1\n",
        "    else:\n",
        "        return 0\n",
        "      "
      ],
      "execution_count": 163,
      "outputs": []
    },
    {
      "cell_type": "code",
      "metadata": {
        "colab": {
          "base_uri": "https://localhost:8080/"
        },
        "id": "E-bxCBnnbaEM",
        "outputId": "b2d40c92-432a-46ef-b37d-9b79adb25a68"
      },
      "source": [
        "\n",
        "for n in range(1000):\n",
        "    for i in range(4):\n",
        "        error = Y[i]- perc(X[i])\n",
        "        w[0] = w[0] + eta * error * X[i][0]\n",
        "        w[1] = w[1] + eta * error * X[i][1]\n",
        "        b = b + eta * error\n",
        "    \n",
        "w,b"
      ],
      "execution_count": 164,
      "outputs": [
        {
          "output_type": "execute_result",
          "data": {
            "text/plain": [
              "([0.1, 0.1], -0.1)"
            ]
          },
          "metadata": {},
          "execution_count": 164
        }
      ]
    },
    {
      "cell_type": "code",
      "metadata": {
        "colab": {
          "base_uri": "https://localhost:8080/"
        },
        "id": "3nLeVSnJbdY7",
        "outputId": "49cd99e4-8f52-479a-e3b0-7fb47f1d2892"
      },
      "source": [
        "perc(X[0]),perc(X[1]),perc(X[2]),perc(X[3])"
      ],
      "execution_count": 165,
      "outputs": [
        {
          "output_type": "execute_result",
          "data": {
            "text/plain": [
              "(0, 1, 1, 1)"
            ]
          },
          "metadata": {},
          "execution_count": 165
        }
      ]
    },
    {
      "cell_type": "markdown",
      "metadata": {
        "id": "gmUZCBbRbCTN"
      },
      "source": [
        "\n",
        "#Iris classifications\n",
        "단층 perceptron을 이용하여 다음의 데이터를 분류하여라."
      ]
    },
    {
      "cell_type": "code",
      "metadata": {
        "id": "yKqx6K-4bFIU"
      },
      "source": [
        "import numpy as np\n",
        "import matplotlib.pyplot as plt"
      ],
      "execution_count": 166,
      "outputs": []
    },
    {
      "cell_type": "code",
      "metadata": {
        "colab": {
          "base_uri": "https://localhost:8080/"
        },
        "id": "AGGWkFwQbGZk",
        "outputId": "e0b28cd1-7a5f-4f76-9065-2bd63d4d0614"
      },
      "source": [
        "from sklearn import datasets\n",
        "iris = datasets.load_iris() # 분꽃\n",
        "iris.feature_names # features"
      ],
      "execution_count": 167,
      "outputs": [
        {
          "output_type": "execute_result",
          "data": {
            "text/plain": [
              "['sepal length (cm)',\n",
              " 'sepal width (cm)',\n",
              " 'petal length (cm)',\n",
              " 'petal width (cm)']"
            ]
          },
          "metadata": {},
          "execution_count": 167
        }
      ]
    },
    {
      "cell_type": "code",
      "metadata": {
        "id": "8-FAbO1HbJUs"
      },
      "source": [
        "X=iris.data # input data # the number of input nodes = 4"
      ],
      "execution_count": 168,
      "outputs": []
    },
    {
      "cell_type": "code",
      "metadata": {
        "colab": {
          "base_uri": "https://localhost:8080/"
        },
        "id": "PgpkpSZ5gvT3",
        "outputId": "42af6649-a1bf-496d-8624-c9f92876bf47"
      },
      "source": [
        "len(X)"
      ],
      "execution_count": 169,
      "outputs": [
        {
          "output_type": "execute_result",
          "data": {
            "text/plain": [
              "150"
            ]
          },
          "metadata": {},
          "execution_count": 169
        }
      ]
    },
    {
      "cell_type": "code",
      "metadata": {
        "colab": {
          "base_uri": "https://localhost:8080/"
        },
        "id": "Yik-7vdjbJls",
        "outputId": "8ba4df95-a1ce-42d3-8052-37a4c7325e31"
      },
      "source": [
        "iris.target_names # setosa = 0, not setosa = 1"
      ],
      "execution_count": 170,
      "outputs": [
        {
          "output_type": "execute_result",
          "data": {
            "text/plain": [
              "array(['setosa', 'versicolor', 'virginica'], dtype='<U10')"
            ]
          },
          "metadata": {},
          "execution_count": 170
        }
      ]
    },
    {
      "cell_type": "code",
      "metadata": {
        "id": "t0HeBnp2bMD1"
      },
      "source": [
        "Y=np.where(iris.target>0,1,0) # 0(setosa) 과 1(setosa 외) 로 분류"
      ],
      "execution_count": 171,
      "outputs": []
    },
    {
      "cell_type": "markdown",
      "metadata": {
        "id": "fdoINhWvbNQk"
      },
      "source": [
        "- 위의 데이터를 단층 perceptron을 이용하여 분류하는 신경망을 만들고 학습하여라.\n",
        "- 입력층의 노드는 바이어스를 제외하고 4개로 한다. 바이어스 1개를 포함 총 5개이다.\n",
        "- 출력층의 노드는 1개로 한다."
      ]
    },
    {
      "cell_type": "code",
      "metadata": {
        "id": "PZ7eNZxEbgmr"
      },
      "source": [
        "w,b=[0,0,0,0],1\n",
        "eta=0.1\n"
      ],
      "execution_count": 172,
      "outputs": []
    },
    {
      "cell_type": "code",
      "metadata": {
        "colab": {
          "base_uri": "https://localhost:8080/"
        },
        "id": "yovPO_OCbgbr",
        "outputId": "c45270e2-e5b7-49e6-ffe6-bdcec72a93f8"
      },
      "source": [
        "for n in range(1000):\n",
        "\n",
        "    for j in range(len(X)):\n",
        "        error = Y[j]- perc(X[j])\n",
        "\n",
        "        \n",
        "        w[0] = w[0] + eta * error * X[j][0]\n",
        "        w[1] = w[1] + eta * error * X[j][1]\n",
        "        w[2] = w[2] + eta * error * X[j][2]\n",
        "        w[3] = w[3] + eta * error * X[j][3]\n",
        "        b = b + eta * error\n",
        "w,b"
      ],
      "execution_count": 173,
      "outputs": [
        {
          "output_type": "execute_result",
          "data": {
            "text/plain": [
              "([-0.19999999999999973, -0.7, 1.0500000000000003, 0.42999999999999994], 0.8)"
            ]
          },
          "metadata": {},
          "execution_count": 173
        }
      ]
    },
    {
      "cell_type": "code",
      "metadata": {
        "id": "GElUUhwGfbAY"
      },
      "source": [
        "perc_f=[]\n",
        "for a in range(len(X)):\n",
        "    perc_f.append(perc(X[a])) "
      ],
      "execution_count": 174,
      "outputs": []
    },
    {
      "cell_type": "markdown",
      "metadata": {
        "id": "1cmEFt7AjACL"
      },
      "source": [
        "예측결과와 실제결과가 같음을 알 수 있다"
      ]
    },
    {
      "cell_type": "code",
      "metadata": {
        "colab": {
          "base_uri": "https://localhost:8080/"
        },
        "id": "y6bDLkoigAPm",
        "outputId": "dedaef28-2ac9-4a07-8dca-0ae17ba44146"
      },
      "source": [
        "np.array_equal(perc_f,Y) "
      ],
      "execution_count": 175,
      "outputs": [
        {
          "output_type": "execute_result",
          "data": {
            "text/plain": [
              "True"
            ]
          },
          "metadata": {},
          "execution_count": 175
        }
      ]
    }
  ]
}