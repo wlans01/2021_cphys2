{
  "nbformat": 4,
  "nbformat_minor": 0,
  "metadata": {
    "colab": {
      "name": "hw4.ipynb",
      "provenance": [],
      "authorship_tag": "ABX9TyOfeI2csOeqHeLq3DjeVV0c",
      "include_colab_link": true
    },
    "kernelspec": {
      "name": "python3",
      "display_name": "Python 3"
    },
    "language_info": {
      "name": "python"
    }
  },
  "cells": [
    {
      "cell_type": "markdown",
      "metadata": {
        "id": "view-in-github",
        "colab_type": "text"
      },
      "source": [
        "<a href=\"https://colab.research.google.com/github/wlans01/2021_cphys2/blob/main/hw4.ipynb\" target=\"_parent\"><img src=\"https://colab.research.google.com/assets/colab-badge.svg\" alt=\"Open In Colab\"/></a>"
      ]
    },
    {
      "cell_type": "markdown",
      "metadata": {
        "id": "N1ultH2tQf9O"
      },
      "source": [
        "#XOR\n",
        "- 하나의 히든 레이어를 도입한다.\n",
        "- input layer는 2개의 노드 + 1개의 바이어스\n",
        "- hidden layer는 3개의 노드 + 1개의 바이어스\n",
        "- output은 하나의 노드로 한다."
      ]
    },
    {
      "cell_type": "code",
      "metadata": {
        "id": "aFY9vnOeQmAG"
      },
      "source": [
        "X = np.array([[0,0,1],[1,0,1],[0,1,1],[1,1,1]]) #세번째 항은 bias\n",
        "y = np.array([[0],[1],[1],[0]])"
      ],
      "execution_count": 1,
      "outputs": []
    },
    {
      "cell_type": "code",
      "metadata": {
        "id": "2z_Wv_GbQnLl"
      },
      "source": [
        "import numpy as np\n",
        "import matplotlib.pyplot as plt"
      ],
      "execution_count": 2,
      "outputs": []
    },
    {
      "cell_type": "code",
      "metadata": {
        "id": "Q-K7zrMDQpKd"
      },
      "source": [
        "def f(x): \n",
        "    return 1/(1+np.exp(-x))"
      ],
      "execution_count": 3,
      "outputs": []
    },
    {
      "cell_type": "code",
      "metadata": {
        "id": "Hpc9OVxIQo71"
      },
      "source": [
        "inputs, hiddens, outputs = 3,4,1\n",
        "np.random.seed(1)\n",
        "w = 2*np.random.random((inputs,hiddens))-1\n",
        "omega = 2*np.random.random((hiddens,outputs))-1"
      ],
      "execution_count": 5,
      "outputs": []
    },
    {
      "cell_type": "code",
      "metadata": {
        "colab": {
          "base_uri": "https://localhost:8080/"
        },
        "id": "HEqzMz81Qrx9",
        "outputId": "7ab4be63-3ad4-4801-a233-b1b2704d3567"
      },
      "source": [
        "dh=[0,0,0,0]\n",
        "eta=1\n",
        "for n in range(10000):\n",
        "    E=0 # error_sum\n",
        "    for i in range(4):\n",
        "        neth=np.dot(X[i],w) \n",
        "        h = f(neth)\n",
        "        neto=np.dot(h,omega) \n",
        "        o = f(neto)\n",
        "        \n",
        "        E = E + (o-y[i])**2\n",
        "        do=(o-y[i])*f(neto)*(1-f(neto))\n",
        "        for j in range(4):\n",
        "            dh[j]=do*omega[j]*f(neth[j])*(1-f(neth[j]))\n",
        "            omega[j]=omega[j]-eta*do*h[j]\n",
        "            for k in range(3):\n",
        "                w[k][j]=w[k][j]-eta*dh[j]*X[i][k]\n",
        "E"
      ],
      "execution_count": 6,
      "outputs": [
        {
          "output_type": "execute_result",
          "data": {
            "text/plain": [
              "array([0.00044546])"
            ]
          },
          "metadata": {},
          "execution_count": 6
        }
      ]
    },
    {
      "cell_type": "code",
      "metadata": {
        "colab": {
          "base_uri": "https://localhost:8080/"
        },
        "id": "A1_Itrf6QtKO",
        "outputId": "5a6f1e91-8e23-4f18-efb6-c0cbc934aef2"
      },
      "source": [
        "for i in range(4):\n",
        "    neth=np.dot(X[i],w) \n",
        "    h = f(neth)\n",
        "    neto=np.dot(h,omega)\n",
        "    o = f(neto)\n",
        "    print(o)"
      ],
      "execution_count": 7,
      "outputs": [
        {
          "output_type": "stream",
          "name": "stdout",
          "text": [
            "[0.00651827]\n",
            "[0.9894139]\n",
            "[0.99071994]\n",
            "[0.01430354]\n"
          ]
        }
      ]
    },
    {
      "cell_type": "code",
      "metadata": {
        "colab": {
          "base_uri": "https://localhost:8080/"
        },
        "id": "hYmTr4ywQuS1",
        "outputId": "243ff41a-f6b3-428c-e6d5-edf4821c0a3d"
      },
      "source": [
        "w,o"
      ],
      "execution_count": 8,
      "outputs": [
        {
          "output_type": "execute_result",
          "data": {
            "text/plain": [
              "(array([[ 2.35603244,  4.41958143, -6.15235168, -6.33134315],\n",
              "        [ 0.61286955, -6.82944491, -6.20002118,  2.86018093],\n",
              "        [-1.11258573, -1.72172626,  2.08016084, -0.71621427]]),\n",
              " array([0.01430354]))"
            ]
          },
          "metadata": {},
          "execution_count": 8
        }
      ]
    }
  ]
}